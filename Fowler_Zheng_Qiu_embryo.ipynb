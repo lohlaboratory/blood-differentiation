{
 "cells": [
  {
   "cell_type": "code",
   "execution_count": null,
   "id": "2acab66e-c488-4fc0-8f30-6e3dd1e0e751",
   "metadata": {},
   "outputs": [],
   "source": [
    "#Title: Fowler and Zheng et al. Qiu embryo analysis\n",
    "#Author: Sherry Li Zheng (slzheng@stanford.edu)\n",
    "#last updated: 2024-01-17"
   ]
  },
  {
   "cell_type": "code",
   "execution_count": null,
   "id": "a67d39f6-4d2c-4273-9cf7-ef2819fb1222",
   "metadata": {},
   "outputs": [],
   "source": [
    "import scanpy as sc\n",
    "import pandas as pd"
   ]
  },
  {
   "cell_type": "code",
   "execution_count": null,
   "id": "723a0cc6-f609-4779-9a79-43ed1093bbfe",
   "metadata": {},
   "outputs": [],
   "source": [
    "#Part 1: whole embryo analysis"
   ]
  },
  {
   "cell_type": "code",
   "execution_count": 41,
   "id": "f6000e03-b5b7-4ab2-9510-218c231569c5",
   "metadata": {},
   "outputs": [],
   "source": [
    "#Read in data\n",
    "adata = sc.read_h5ad(\"adata_JAX_dataset_1.h5ad\") # THIS CONTAINS E8.5 to E10.75 (Fig S1)\n",
    "                     #adata_JAX_dataset_2.h5ad   # THIS CONTAINS E11.0 (Fig S1)          "
   ]
  },
  {
   "cell_type": "code",
   "execution_count": 42,
   "id": "9cdd09af-d275-481a-8b18-b9d82d68c44a",
   "metadata": {},
   "outputs": [],
   "source": [
    "#These contain annotations for all the datasets. Annotations by author (Qiu et al.: https://www.biorxiv.org/content/10.1101/2023.04.05.535726v1)\n",
    "gene_names = pd.read_csv(\"df_gene.csv\")\n",
    "cell_anno = pd.read_csv(\"df_cell.csv\")"
   ]
  },
  {
   "cell_type": "code",
   "execution_count": 43,
   "id": "93348a58-861f-4418-b771-b88ba1ba02ae",
   "metadata": {},
   "outputs": [],
   "source": [
    "#Annotate the datasets\n",
    "adata.var_names = gene_names['gene_short_name']\n",
    "adata.obs_names = adata.obs['cell_id']\n",
    "adata.obs['cell_type'] = adata.obs_names.map(cell_anno.set_index('cell_id')['celltype_update'])\n",
    "adata.obs['major_trajectory'] = adata.obs_names.map(cell_anno.set_index('cell_id')['major_trajectory'])"
   ]
  },
  {
   "cell_type": "code",
   "execution_count": 44,
   "id": "4b08c9b2-26ad-4ba0-9cc6-9512211cce1d",
   "metadata": {},
   "outputs": [],
   "source": [
    "#Slicing adata object to only contain subsets of timepoints:\n",
    "time_to_keep = ['E8.5'] #insert timepoint of interest here\n",
    "adata = adata[adata.obs['day'].isin(time_to_keep)]"
   ]
  },
  {
   "cell_type": "code",
   "execution_count": null,
   "id": "27db501c-d46a-4783-87da-6546004b836f",
   "metadata": {},
   "outputs": [],
   "source": [
    "#Generate whole-embryo UMAPs\n",
    "sc.pp.normalize_total(adata)\n",
    "sc.pp.log1p(adata)\n",
    "sc.pp.highly_variable_genes(adata, min_mean=0.0125, max_mean=3, min_disp=0.5)\n",
    "sc.tl.pca(adata, svd_solver='arpack')\n",
    "sc.pp.neighbors(adata, n_neighbors=10, n_pcs=40)\n",
    "sc.tl.umap(adata)\n",
    "sc.pl.umap(adata, color=['cell_type'])\n",
    "sc.pl.umap(adata, color=['Gja5'])"
   ]
  },
  {
   "cell_type": "code",
   "execution_count": null,
   "id": "f3116685-7763-43e0-9d1f-4ac94fbbaa2c",
   "metadata": {},
   "outputs": [],
   "source": [
    "#import seaborn as sns\n",
    "\n",
    "# Combine tab10 and tab20 palettes to get 30 distinct colors\n",
    "#combined_palette = sns.color_palette(\"tab10\") + sns.color_palette(\"tab20\")\n",
    "\n",
    "# Repeat the combined palette to get more than 112 distinct colors\n",
    "#full_palette = combined_palette * (112 // len(combined_palette) + 1)\n",
    "\n",
    "# Slice the palette to get exactly 112 colors\n",
    "#final_palette = full_palette[:112]\n",
    "\n",
    "# Assuming adata is your AnnData object\n",
    "#sc.pl.umap(adata, color='cell_type')"
   ]
  },
  {
   "cell_type": "code",
   "execution_count": null,
   "id": "4929198b-d511-4043-bf4e-39bbeae522e6",
   "metadata": {},
   "outputs": [],
   "source": [
    "#Part 2: cluster analysis"
   ]
  },
  {
   "cell_type": "code",
   "execution_count": null,
   "id": "7c17ffd2-7082-41a3-9efc-57e5a1808b91",
   "metadata": {},
   "outputs": [],
   "source": [
    "#Read in data\n",
    "adata = sc.read_h5ad(\"adata_JAX_dataset_1.h5ad\") # THIS CONTAINS E8.5 to E10.75 (Fig S1)\n",
    "                     #adata_JAX_dataset_2.h5ad   # THIS CONTAINS E11.0 (Fig S1)          "
   ]
  },
  {
   "cell_type": "code",
   "execution_count": null,
   "id": "ff88f7d9-22d1-469f-812c-b909b68e5ccc",
   "metadata": {},
   "outputs": [],
   "source": [
    "#These contain annotations for all the datasets. Annotations by author (Qiu et al.: https://www.biorxiv.org/content/10.1101/2023.04.05.535726v1)\n",
    "gene_names = pd.read_csv(\"df_gene.csv\")\n",
    "cell_anno = pd.read_csv(\"df_cell.csv\")"
   ]
  },
  {
   "cell_type": "code",
   "execution_count": null,
   "id": "9daf2e4f-112f-46af-9731-9105bd9e8919",
   "metadata": {},
   "outputs": [],
   "source": [
    "#Annotate the datasets\n",
    "adata.var_names = gene_names['gene_short_name']\n",
    "adata.obs_names = adata.obs['cell_id']\n",
    "adata.obs['cell_type'] = adata.obs_names.map(cell_anno.set_index('cell_id')['celltype_update'])\n",
    "adata.obs['major_trajectory'] = adata.obs_names.map(cell_anno.set_index('cell_id')['major_trajectory'])"
   ]
  },
  {
   "cell_type": "code",
   "execution_count": null,
   "id": "0f29ef6c-bc84-4395-90c7-1679418671f9",
   "metadata": {},
   "outputs": [],
   "source": [
    "#Slicing adata object to only contain subsets of timepoints or celltypes:\n",
    "time_to_keep = ['E8.5'] #insert timepoint of interest here\n",
    "adata = adata[adata.obs['day'].isin(time_to_keep)]\n",
    "annotations_to_keep = ['Arterial endothelial cells'] #insert cluster(s) of interest here\n",
    "adata = adata[adata.obs['cell_type'].isin(annotations_to_keep)]"
   ]
  },
  {
   "cell_type": "code",
   "execution_count": null,
   "id": "28ea9e22-1e56-41c5-a643-89f64b454ff3",
   "metadata": {},
   "outputs": [],
   "source": [
    "#Generate UMAPs\n",
    "sc.pp.normalize_total(adata)\n",
    "sc.pp.log1p(adata)\n",
    "sc.pp.highly_variable_genes(adata, min_mean=0.0125, max_mean=3, min_disp=0.5)\n",
    "sc.tl.pca(adata, svd_solver='arpack')\n",
    "sc.pp.neighbors(adata, n_neighbors=10, n_pcs=40)\n",
    "sc.tl.umap(adata)\n",
    "sc.pl.umap(adata, color=['Gja5'])"
   ]
  }
 ],
 "metadata": {
  "kernelspec": {
   "display_name": "Python 3 (ipykernel)",
   "language": "python",
   "name": "python3"
  },
  "language_info": {
   "codemirror_mode": {
    "name": "ipython",
    "version": 3
   },
   "file_extension": ".py",
   "mimetype": "text/x-python",
   "name": "python",
   "nbconvert_exporter": "python",
   "pygments_lexer": "ipython3",
   "version": "3.10.12"
  }
 },
 "nbformat": 4,
 "nbformat_minor": 5
}
